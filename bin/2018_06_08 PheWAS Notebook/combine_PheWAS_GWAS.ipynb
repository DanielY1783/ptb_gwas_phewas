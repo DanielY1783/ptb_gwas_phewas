{
 "cells": [
  {
   "cell_type": "markdown",
   "metadata": {},
   "source": [
    "This Python program takes GWAS data from ../../data/2018_05_29_PheWAS_and_GWAS/Zhang et al PTB 10000/pre_top10000.tab\n",
    "and PheWAS data from ../../data/2018_05_29_PheWAS_and_GWAS/PheWAS Catalog/phewas-catalog.csv and finds the intersection of the SNPs, and stored the results to the stored in the ../../results/06_08_2018/combined folder. It then splits the data into individual files based on the SNP (stored in the ../../results/06_08_2018/snp folder) and calls an R program to create a scatter plot for each SNP by taking the -log(p_value)."
   ]
  },
  {
   "cell_type": "code",
   "execution_count": 1,
   "metadata": {},
   "outputs": [],
   "source": [
    "# Import pandas for data combining\n",
    "import pandas as pd\n",
    "\n",
    "# For csv file writing\n",
    "import csv"
   ]
  },
  {
   "cell_type": "code",
   "execution_count": 2,
   "metadata": {
    "scrolled": true
   },
   "outputs": [
    {
     "name": "stderr",
     "output_type": "stream",
     "text": [
      "d:\\program files (x86)\\python 3.6.5\\lib\\site-packages\\IPython\\core\\interactiveshell.py:2785: DtypeWarning: Columns (0) have mixed types. Specify dtype option on import or set low_memory=False.\n",
      "  interactivity=interactivity, compiler=compiler, result=result)\n"
     ]
    }
   ],
   "source": [
    "# Open the GWAS catalog as a dataframe.\n",
    "gwas_df = pd.read_table(\"../../data/2018_05_29_PheWAS_and_GWAS/Zhang et al PTB 10000/pre_top10000.tab\")\n",
    "\n",
    "# Get column of GWAS containing only the SNPs and convert to dataframe\n",
    "gwas_snps_df = pd.DataFrame(gwas_df['snp'])\n",
    "\n",
    "# Open the PheWAS catalog as a dataframe.\n",
    "phewas_df = pd.read_csv(\"../../data/2018_05_29_PheWAS_and_GWAS/PheWAS Catalog/phewas-catalog.csv\")\n"
   ]
  },
  {
   "cell_type": "code",
   "execution_count": 3,
   "metadata": {
    "scrolled": false
   },
   "outputs": [],
   "source": [
    "# Use inner join to combine the GWAS file with PheWAS file\n",
    "combined_df = pd.merge(gwas_snps_df, phewas_df, how='inner', on='snp')\n",
    "\n",
    "# Write the result to a csv file\n",
    "combined_df.to_csv(\"../../results/2018_06_08/combined/Combined_GWAS_PheWAS.csv\", sep = '\\t', index = False)"
   ]
  },
  {
   "cell_type": "code",
   "execution_count": 4,
   "metadata": {},
   "outputs": [],
   "source": [
    "# Check to see which GWAS SNPs were not in the PheWAS\n",
    "missing_snps_df = gwas_snps_df[~gwas_snps_df.snp.isin(phewas_df.snp)]\n",
    "\n",
    "# Print out those SNPs that are missing\n",
    "missing_snps_df.to_csv(\"../../results/2018_06_08/combined/missing_snps.csv\", sep = '\\t', index = False)"
   ]
  },
  {
   "cell_type": "code",
   "execution_count": 5,
   "metadata": {
    "scrolled": false
   },
   "outputs": [],
   "source": [
    "# Count number of repetitions of each SNP and print to csv file.\n",
    "repetitions_df = combined_df['snp'].value_counts()\n",
    "repetitions_df.to_csv(\"../../results/2018_06_08/combined/repetitions.csv\", sep = '\\t')"
   ]
  },
  {
   "cell_type": "code",
   "execution_count": 6,
   "metadata": {
    "scrolled": true
   },
   "outputs": [],
   "source": [
    "# Double Check results with sets\n",
    "phewas_set = set(phewas_df['snp'])\n",
    "gwas_set = set(gwas_df['snp'])\n",
    "intersection_set = phewas_set.intersection(gwas_set)\n",
    "with open('../../results/2018_06_08/combined/set_output.csv', 'w', newline='') as csvfile:\n",
    "    csv_writer = csv.writer(csvfile, delimiter = '\\t')\n",
    "    csv_writer.writerow(list(intersection_set))"
   ]
  },
  {
   "cell_type": "code",
   "execution_count": 7,
   "metadata": {
    "scrolled": true
   },
   "outputs": [],
   "source": [
    "# Split up the combined dataframe into separate ones by SNP\n",
    "grouped_snps_df = combined_df.groupby(by = \"snp\")\n",
    "\n",
    "# Within each SNP, sort by p-value, then odds, then phewas_string. Use mergesort starting from phewas_string, since\n",
    "# mergesort preserves relative order.\n",
    "for snp, group in grouped_snps_df:\n",
    "    sorted_phewas_df = group.sort_values(by = 'phewas_string', kind = 'mergesort')\n",
    "    sorted_odds_df = sorted_phewas_df.sort_values(by = 'odds_ratio', ascending = False, kind = 'mergesort')\n",
    "    sorted_p_df = sorted_odds_df.sort_values(by = 'p', kind = 'mergesort')\n",
    "    # Write the result to a csv file\n",
    "    sorted_p_df.to_csv('../../results/2018_06_08/snps/' + str(snp) +'.csv', index = False ,sep = '\\t')"
   ]
  },
  {
   "cell_type": "code",
   "execution_count": null,
   "metadata": {},
   "outputs": [],
   "source": []
  }
 ],
 "metadata": {
  "kernelspec": {
   "display_name": "Python 3",
   "language": "python",
   "name": "python3"
  },
  "language_info": {
   "codemirror_mode": {
    "name": "ipython",
    "version": 3
   },
   "file_extension": ".py",
   "mimetype": "text/x-python",
   "name": "python",
   "nbconvert_exporter": "python",
   "pygments_lexer": "ipython3",
   "version": "3.6.5"
  }
 },
 "nbformat": 4,
 "nbformat_minor": 1
}
