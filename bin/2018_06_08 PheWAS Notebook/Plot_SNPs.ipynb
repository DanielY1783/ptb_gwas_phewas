{
 "cells": [
  {
   "cell_type": "markdown",
   "metadata": {},
   "source": [
    "Plots the outputs for each SNP from the ../../results/2018_06_08/snps/ folder. The result is a scatter plot grouped by phewas code on the x-axis and a -log(p_value) on the y-axis."
   ]
  },
  {
   "cell_type": "code",
   "execution_count": null,
   "metadata": {},
   "outputs": [],
   "source": [
    "# Import ggplot2 for graphs, dplyr for dataframes, and stringr for string manipulation.\n",
    "library(ggplot2)\n",
    "library(utils)\n",
    "library(ggrepel)\n",
    "library(dplyr, warn.conflicts = FALSE)\n",
    "library(stringr)"
   ]
  },
  {
   "cell_type": "code",
   "execution_count": null,
   "metadata": {},
   "outputs": [],
   "source": [
    "# Read in all the SNPs\n",
    "snps_df <- read.table(\"../../results/2018_06_08/combined/set_output.csv\", sep = '\\t')\n",
    "\n",
    "# Load in grouping of phewas codes.\n",
    "load(file = \"../../data/2018_06_08_phewas_groups/pheinfo.rda\")\n",
    "\n",
    "# Convert the phecodes to numerics\n",
    "pheinfo[,c(\"phecode\")] <- as.numeric(pheinfo[,c(\"phecode\")])"
   ]
  },
  {
   "cell_type": "code",
   "execution_count": null,
   "metadata": {
    "scrolled": true
   },
   "outputs": [],
   "source": [
    "# Iterate over all the SNPs in both the GWAS and PheWAS to create plots.\n",
    "for (i in snps_df) {\n",
    "  # Open the files for each SNP.\n",
    "  cur_snp_str <-\n",
    "    paste(\"../../results/2018_06_08/snps/\", i, \".csv\", sep = \"\")\n",
    "  cur_snp_df <- read.csv(cur_snp_str, sep = '\\t')\n",
    "  \n",
    "  # Make a copy to take the -log base 10 of the p-values.\n",
    "  new_df <- cur_snp_df\n",
    "  new_df[, c(\"p\")] = -log(new_df[, c(\"p\")], 10)\n",
    "  \n",
    "  # Merge the pheinfo dataframe with the dataframe with the SNP info on the phewas_code\n",
    "  new_df <-\n",
    "    merge(\n",
    "      x = new_df,\n",
    "      y = pheinfo,\n",
    "      by.x = \"phewas_code\",\n",
    "      by.y = \"phecode\",\n",
    "      all.x = TRUE,\n",
    "      sort = TRUE\n",
    "    )\n",
    "  \n",
    "  # Print to notebook\n",
    "  print(\n",
    "    ggplot(new_df, aes(x = phewas_code, y = p)) +\n",
    "      geom_point(aes(color = new_df[,c(\"group\")])) +\n",
    "      labs(y = expression('-log'[10] * ' (p)'), \n",
    "           title = i) +\n",
    "      theme(\n",
    "        axis.text.x = element_blank(),\n",
    "        axis.ticks.x = element_blank()) +\n",
    "      geom_text_repel(\n",
    "        aes(label = ifelse(p > 2, as.character(phewas_string), ''), color = new_df[,c(\"group\")]),\n",
    "        size = 2.5,\n",
    "        hjust = 0.5,\n",
    "        vjust = 1,\n",
    "        force = 3\n",
    "      )\n",
    "  )  \n",
    "    \n",
    "  # Save to PNG file\n",
    "  png_file_name <-\n",
    "    paste(\"../../results/2018_06_08/plots/\", i, \".png\", sep = \"\")\n",
    "  png(\n",
    "    filename = png_file_name,\n",
    "    width = 900,\n",
    "    height = 900,\n",
    "    res = 100\n",
    "  )\n",
    "  print(\n",
    "    ggplot(new_df, aes(x = phewas_code, y = p)) +\n",
    "      geom_point(aes(color = new_df[,c(\"group\")])) +\n",
    "      labs(y = expression('-log'[10] * ' (p)'), \n",
    "           title = i) +\n",
    "      theme(\n",
    "        axis.text.x = element_blank(),\n",
    "        axis.ticks.x = element_blank()) +\n",
    "      geom_text_repel(\n",
    "        aes(label = ifelse(p > 2, as.character(phewas_string), ''), color = new_df[,c(\"group\")]),\n",
    "        size = 2.5,\n",
    "        hjust = 0.5,\n",
    "        vjust = 1,\n",
    "        force = 3\n",
    "      )\n",
    "  )\n",
    "  dev.off()\n",
    "}"
   ]
  },
  {
   "cell_type": "code",
   "execution_count": null,
   "metadata": {},
   "outputs": [],
   "source": []
  }
 ],
 "metadata": {
  "kernelspec": {
   "display_name": "R",
   "language": "R",
   "name": "ir"
  },
  "language_info": {
   "codemirror_mode": "r",
   "file_extension": ".r",
   "mimetype": "text/x-r-source",
   "name": "R",
   "pygments_lexer": "r",
   "version": "3.5.0"
  }
 },
 "nbformat": 4,
 "nbformat_minor": 2
}
