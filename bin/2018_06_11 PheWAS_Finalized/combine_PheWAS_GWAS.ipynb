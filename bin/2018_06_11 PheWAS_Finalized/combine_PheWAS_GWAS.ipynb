{
 "cells": [
  {
   "cell_type": "markdown",
   "metadata": {},
   "source": [
    "This Python program takes GWAS data from /dors/capra_lab/users/yand1/PTB_evo_analysis/data/2018_05_29_PheWAS_and_GWAS/Zhang_et_al_PTB_10000/pre_top10000.tab\n",
    "and PheWAS data from \n",
    "/dors/capra_lab/users/yand1/PTB_evo_analysis/data/2018_05_29_PheWAS_and_GWAS/PheWAS Catalog/phewas-catalog.csv \n",
    "and finds the intersection of the SNPs, and stored the results to the stored in the \n",
    "/dors/capra_lab/users/yand1/PTB_evo_analysis/results/06_11_2018/combined folder. It then splits the data into individual files based on the SNP, and the results are stored to the \n",
    "/dors/capra_lab/users/yand1/PTB_evo_analysis/results/06_11_2018/snp folder."
   ]
  },
  {
   "cell_type": "code",
   "execution_count": null,
   "metadata": {},
   "outputs": [],
   "source": [
    "# Import pandas for data combining\n",
    "import pandas as pd\n",
    "\n",
    "# For csv file writing\n",
    "import csv"
   ]
  },
  {
   "cell_type": "code",
   "execution_count": null,
   "metadata": {
    "scrolled": true
   },
   "outputs": [],
   "source": [
    "# Open the GWAS catalog as a dataframe.\n",
    "gwas_df = pd.read_table(\"/dors/capra_lab/users/yand1/PTB_evo_analysis/data/2018_05_29_PheWAS_and_GWAS/Zhang_et_al_PTB_10000/pre_top10000.tab\")\n",
    "\n",
    "# Get column of GWAS containing only the SNPs and convert to dataframe\n",
    "gwas_snps_df = pd.DataFrame(gwas_df['snp'])\n",
    "\n",
    "# Open the PheWAS catalog as a dataframe.\n",
    "phewas_df = pd.read_csv(\"/dors/capra_lab/users/yand1/PTB_evo_analysis/data/2018_05_29_PheWAS_and_GWAS/PheWAS_Catalog/phewas-catalog.csv\")\n"
   ]
  },
  {
   "cell_type": "code",
   "execution_count": null,
   "metadata": {
    "scrolled": false
   },
   "outputs": [],
   "source": [
    "# Use inner join to combine the GWAS file with PheWAS file\n",
    "combined_df = pd.merge(gwas_snps_df, phewas_df, how='inner', on='snp')\n",
    "\n",
    "# Write the result to a csv file\n",
    "combined_df.to_csv(\"/dors/capra_lab/users/yand1/PTB_evo_analysis/results/2018_06_11/combined/Combined_GWAS_PheWAS.csv\", sep = '\\t', index = False)"
   ]
  },
  {
   "cell_type": "code",
   "execution_count": null,
   "metadata": {},
   "outputs": [],
   "source": [
    "# Check to see which GWAS SNPs were not in the PheWAS\n",
    "missing_snps_df = gwas_snps_df[~gwas_snps_df.snp.isin(phewas_df.snp)]\n",
    "\n",
    "# Print out those SNPs that are missing\n",
    "missing_snps_df.to_csv(\"/dors/capra_lab/users/yand1/PTB_evo_analysis/results/2018_06_11/combined/missing_snps.csv\", sep = '\\t', index = False)"
   ]
  },
  {
   "cell_type": "code",
   "execution_count": null,
   "metadata": {
    "scrolled": false
   },
   "outputs": [],
   "source": [
    "# Count number of repetitions of each SNP and print to csv file.\n",
    "repetitions_df = combined_df['snp'].value_counts()\n",
    "repetitions_df.to_csv(\"/dors/capra_lab/users/yand1/PTB_evo_analysis/results/2018_06_11/combined/repetitions.csv\", sep = '\\t')"
   ]
  },
  {
   "cell_type": "code",
   "execution_count": null,
   "metadata": {
    "scrolled": true
   },
   "outputs": [],
   "source": [
    "# Double Check results with sets\n",
    "phewas_set = set(phewas_df[\"snp\"])\n",
    "gwas_set = set(gwas_df[\"snp\"])\n",
    "intersection_set = phewas_set.intersection(gwas_set)\n",
    "with open(\"/dors/capra_lab/users/yand1/PTB_evo_analysis/results/2018_06_11/combined/set_output.csv\", 'w', newline='') as csvfile:\n",
    "    csv_writer = csv.writer(csvfile, delimiter = '\\t')\n",
    "    csv_writer.writerow(list(intersection_set))"
   ]
  },
  {
   "cell_type": "code",
   "execution_count": null,
   "metadata": {
    "scrolled": true
   },
   "outputs": [],
   "source": [
    "# Split up the combined dataframe into separate ones by SNP\n",
    "grouped_snps_df = combined_df.groupby(by = \"snp\")\n",
    "\n",
    "# Within each SNP, sort by p-value, then odds, then phewas_string. Use mergesort starting from phewas_string, since\n",
    "# mergesort preserves relative order.\n",
    "for snp, group in grouped_snps_df:\n",
    "    sorted_phewas_df = group.sort_values(by = \"phewas_string\", kind = \"mergesort\")\n",
    "    sorted_odds_df = sorted_phewas_df.sort_values(by = \"odds_ratio\", ascending = False, kind = \"mergesort\")\n",
    "    sorted_p_df = sorted_odds_df.sort_values(by = 'p', kind = \"mergesort\")\n",
    "    # Write the result to a csv file\n",
    "    sorted_p_df.to_csv(\"/dors/capra_lab/users/yand1/PTB_evo_analysis/results/2018_06_11/snps/\" + str(snp) +\".csv\", index = False ,sep = '\\t')"
   ]
  }
 ],
 "metadata": {
  "kernelspec": {
   "display_name": "Python 3",
   "language": "python",
   "name": "python3"
  },
  "language_info": {
   "codemirror_mode": {
    "name": "ipython",
    "version": 3
   },
   "file_extension": ".py",
   "mimetype": "text/x-python",
   "name": "python",
   "nbconvert_exporter": "python",
   "pygments_lexer": "ipython3",
   "version": "3.6.5"
  }
 },
 "nbformat": 4,
 "nbformat_minor": 1
}
