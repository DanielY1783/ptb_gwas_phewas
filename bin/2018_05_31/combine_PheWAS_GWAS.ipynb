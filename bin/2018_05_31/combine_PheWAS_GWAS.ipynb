{
 "cells": [
  {
   "cell_type": "code",
   "execution_count": 1,
   "metadata": {},
   "outputs": [
    {
     "name": "stderr",
     "output_type": "stream",
     "text": [
      "d:\\program files (x86)\\python 3.6.5\\lib\\site-packages\\IPython\\core\\interactiveshell.py:2785: DtypeWarning: Columns (0) have mixed types. Specify dtype option on import or set low_memory=False.\n",
      "  interactivity=interactivity, compiler=compiler, result=result)\n"
     ]
    }
   ],
   "source": [
    "# Import pandas for data combining\n",
    "import pandas as pd\n",
    "\n",
    "# Open the GWAS catalog as a dataframe.\n",
    "GWAS = pd.read_table(\"../../data/2018_05_29/Zhang et al PTB 10000/pre_top10000.tab\")\n",
    "\n",
    "# Get column of GWAS containing only the SNPs and convert to dataframe\n",
    "GWAS_SNPS = pd.DataFrame(GWAS['snp'])\n",
    "\n",
    "# Open the PheWAS catalog as a dataframe.\n",
    "PheWAS = pd.read_csv('../../data/2018_05_29/PheWAS Catalog/phewas-catalog.csv',)\n"
   ]
  },
  {
   "cell_type": "code",
   "execution_count": 2,
   "metadata": {
    "scrolled": false
   },
   "outputs": [],
   "source": [
    "# Use inner join to combine the GWAS file with PheWAS file\n",
    "combined = pd.merge(GWAS_SNPS, PheWAS, how='inner', on='snp')\n",
    "\n",
    "# Write the result to a csv file\n",
    "combined.to_csv(\"../../results/2018_05_31/Combined_GWAS_PheWAS.csv\", index = False)"
   ]
  },
  {
   "cell_type": "code",
   "execution_count": null,
   "metadata": {},
   "outputs": [],
   "source": []
  }
 ],
 "metadata": {
  "kernelspec": {
   "display_name": "Python 3",
   "language": "python",
   "name": "python3"
  },
  "language_info": {
   "codemirror_mode": {
    "name": "ipython",
    "version": 3
   },
   "file_extension": ".py",
   "mimetype": "text/x-python",
   "name": "python",
   "nbconvert_exporter": "python",
   "pygments_lexer": "ipython3",
   "version": "3.6.5"
  }
 },
 "nbformat": 4,
 "nbformat_minor": 1
}
