{
 "cells": [
  {
   "cell_type": "code",
   "execution_count": null,
   "metadata": {},
   "outputs": [],
   "source": [
    "# Import pandas for data combining\n",
    "import pandas as pd\n",
    "\n",
    "# Import for plotting\n",
    "import matplotlib\n",
    "import numpy as np"
   ]
  },
  {
   "cell_type": "code",
   "execution_count": null,
   "metadata": {
    "scrolled": true
   },
   "outputs": [],
   "source": [
    "# Open the GWAS catalog as a dataframe.\n",
    "gwas_df = pd.read_table(\"../../data/2018_05_29/Zhang_et_al_PTB_10000/pre_top10000.tab\")\n",
    "\n",
    "# Get column of GWAS containing only the SNPs and convert to dataframe\n",
    "gwas_snps_df = pd.DataFrame(gwas_df['snp'])\n",
    "\n",
    "# Open the PheWAS catalog as a dataframe.\n",
    "phewas_df = pd.read_csv('../../data/2018_05_29/PheWAS_Catalog/phewas-catalog.csv',)\n"
   ]
  },
  {
   "cell_type": "code",
   "execution_count": null,
   "metadata": {
    "scrolled": false
   },
   "outputs": [],
   "source": [
    "# Use inner join to combine the GWAS file with PheWAS file\n",
    "combined = pd.merge(gwas_snps_df, phewas_df, how='inner', on='snp')\n",
    "\n",
    "# Write the result to a csv file\n",
    "combined.to_csv(\"../../results/2018_05_31/Combined_GWAS_PheWAS.csv\", index = False)"
   ]
  },
  {
   "cell_type": "code",
   "execution_count": null,
   "metadata": {},
   "outputs": [],
   "source": [
    "# Check to see which GWAS SNPs were not in the PheWAS\n",
    "missing_snps_df = gwas_snps_df[~gwas_snps_df.snp.isin(phewas_df.snp)]\n",
    "\n",
    "# Print out those SNPs that are missing\n",
    "missing_snps_df.to_csv(\"../../results/2018_05_31/missing_snps.csv\", index = False)\n",
    "\n",
    "# Add in column to missing_snps_df indicating that those values appear 0 times.\n",
    "missing_snps_df['repetitions'] = 0"
   ]
  },
  {
   "cell_type": "code",
   "execution_count": null,
   "metadata": {
    "scrolled": false
   },
   "outputs": [],
   "source": [
    "# Count number of repetitions of each SNP and print to csv file.\n",
    "repetitions_df = combined['snp'].value_counts()\n",
    "repetitions_df.to_csv(\"../../results/2018_05_31/repetitions.csv\")"
   ]
  },
  {
   "cell_type": "code",
   "execution_count": null,
   "metadata": {},
   "outputs": [],
   "source": []
  }
 ],
 "metadata": {
  "kernelspec": {
   "display_name": "Python 3",
   "language": "python",
   "name": "python3"
  },
  "language_info": {
   "codemirror_mode": {
    "name": "ipython",
    "version": 3
   },
   "file_extension": ".py",
   "mimetype": "text/x-python",
   "name": "python",
   "nbconvert_exporter": "python",
   "pygments_lexer": "ipython3",
   "version": "3.6.5"
  }
 },
 "nbformat": 4,
 "nbformat_minor": 1
}
